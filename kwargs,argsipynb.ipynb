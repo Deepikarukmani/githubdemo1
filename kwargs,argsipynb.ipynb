{
  "nbformat": 4,
  "nbformat_minor": 0,
  "metadata": {
    "colab": {
      "provenance": [],
      "authorship_tag": "ABX9TyO9GnfjOKImkF/G3UTz7Cs8"
    },
    "kernelspec": {
      "name": "python3",
      "display_name": "Python 3"
    },
    "language_info": {
      "name": "python"
    }
  },
  "cells": [
    {
      "cell_type": "code",
      "execution_count": 9,
      "metadata": {
        "colab": {
          "base_uri": "https://localhost:8080/"
        },
        "id": "PV4apuBIhBwv",
        "outputId": "a46c21a6-ea92-43a6-e685-ba7d1c178d9e"
      },
      "outputs": [
        {
          "output_type": "stream",
          "name": "stdout",
          "text": [
            "{'first': 'hello', 'mid': 'goodr', 'last': 'morning'}\n",
            "first ==hello\n",
            "hello is first\n",
            "mid ==goodr\n",
            "goodr is mid\n",
            "last ==morning\n",
            "morning is last\n"
          ]
        }
      ],
      "source": [
        "def myfun(**kwargs):\n",
        "    print(kwargs)\n",
        "    for key,value in kwargs.items():\n",
        "      print(\"%s ==%s\" %(key, value ))\n",
        "      print(f\"{value} is {key}\".format(key,value))\n",
        "\n",
        "myfun(first=\"hello\", mid=\"goodr\", last=\"morning\")"
      ]
    },
    {
      "cell_type": "code",
      "source": [
        "key = \"deepika\"\n",
        "value = \"titi\"\n",
        "subject =\"data science\"\n",
        "print(f\"{value} is {key}\")"
      ],
      "metadata": {
        "colab": {
          "base_uri": "https://localhost:8080/"
        },
        "id": "4vZrieuQkpfE",
        "outputId": "4b6fcebe-16b5-4946-fde6-9e83d1486ac7"
      },
      "execution_count": 10,
      "outputs": [
        {
          "output_type": "stream",
          "name": "stdout",
          "text": [
            "titi is deepika\n"
          ]
        }
      ]
    },
    {
      "cell_type": "code",
      "source": [
        "def guvi(acc,name,*trans):\n",
        "  print(acc,name)\n",
        "  for i in trans:\n",
        "    print(i)\n",
        "    guvi(12,\"mm\")"
      ],
      "metadata": {
        "id": "qPy8ON3im-pQ"
      },
      "execution_count": 15,
      "outputs": []
    },
    {
      "cell_type": "code",
      "source": [
        "boss = (\"deepi\",\"titi\")\n",
        "\n",
        "def guvi():\n",
        "  boss = \"deepika\"\n",
        "  print(boss)\n",
        "guvi()\n",
        "print(boss)"
      ],
      "metadata": {
        "colab": {
          "base_uri": "https://localhost:8080/"
        },
        "id": "i07vnHOXnZQp",
        "outputId": "130f29c5-b597-436b-c17a-51a0d6a4fbaf"
      },
      "execution_count": 16,
      "outputs": [
        {
          "output_type": "stream",
          "name": "stdout",
          "text": [
            "deepika\n",
            "('deepi', 'titi')\n"
          ]
        }
      ]
    },
    {
      "cell_type": "code",
      "source": [
        "boss = 10\n",
        "\n",
        "def guvi():\n",
        "  global boss\n",
        "  boss = boss+ 20\n",
        "  print(boss)\n",
        "print(boss)\n",
        "guvi()\n",
        "print(boss)"
      ],
      "metadata": {
        "colab": {
          "base_uri": "https://localhost:8080/"
        },
        "id": "doVp_I8gopBf",
        "outputId": "5ffb39f4-b3c4-44ee-a42c-7aba77590c20"
      },
      "execution_count": 17,
      "outputs": [
        {
          "output_type": "stream",
          "name": "stdout",
          "text": [
            "10\n",
            "30\n",
            "30\n"
          ]
        }
      ]
    }
  ]
}